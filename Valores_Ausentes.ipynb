{
  "nbformat": 4,
  "nbformat_minor": 0,
  "metadata": {
    "colab": {
      "name": "Valores Ausentes.ipynb",
      "provenance": [],
      "authorship_tag": "ABX9TyOje3DOu7gRWS8gEuSymlcL",
      "include_colab_link": true
    },
    "kernelspec": {
      "name": "python3",
      "display_name": "Python 3"
    }
  },
  "cells": [
    {
      "cell_type": "markdown",
      "metadata": {
        "id": "view-in-github",
        "colab_type": "text"
      },
      "source": [
        "<a href=\"https://colab.research.google.com/github/marcos-code/mod2_manipulando-e-explorando-dados-sigmoidal/blob/main/Valores_Ausentes.ipynb\" target=\"_parent\"><img src=\"https://colab.research.google.com/assets/colab-badge.svg\" alt=\"Open In Colab\"/></a>"
      ]
    },
    {
      "cell_type": "markdown",
      "metadata": {
        "id": "q2OdY8SQPA-j"
      },
      "source": [
        "#Valores Ausentes"
      ]
    },
    {
      "cell_type": "code",
      "metadata": {
        "colab": {
          "base_uri": "https://localhost:8080/",
          "height": 378
        },
        "id": "tjDIoKDD-5F_",
        "outputId": "3896c665-cbe6-4f09-f2df-122e8e9c450c"
      },
      "source": [
        "DATA_PATH = \"http://dl.dropboxusercontent.com/s/yyfeoxqw61o3iel/df_rides.csv\"\r\n",
        "\r\n",
        "# importar os pacotes necessários\r\n",
        "import pandas as pd\r\n",
        "\r\n",
        "#importar o dataset\r\n",
        "df = pd.read_csv(DATA_PATH)\r\n",
        "\r\n",
        "# ver as primeiras entradas\r\n",
        "df.head()"
      ],
      "execution_count": 2,
      "outputs": [
        {
          "output_type": "execute_result",
          "data": {
            "text/html": [
              "<div>\n",
              "<style scoped>\n",
              "    .dataframe tbody tr th:only-of-type {\n",
              "        vertical-align: middle;\n",
              "    }\n",
              "\n",
              "    .dataframe tbody tr th {\n",
              "        vertical-align: top;\n",
              "    }\n",
              "\n",
              "    .dataframe thead th {\n",
              "        text-align: right;\n",
              "    }\n",
              "</style>\n",
              "<table border=\"1\" class=\"dataframe\">\n",
              "  <thead>\n",
              "    <tr style=\"text-align: right;\">\n",
              "      <th></th>\n",
              "      <th>user_gender</th>\n",
              "      <th>user_birthdate</th>\n",
              "      <th>user_residence</th>\n",
              "      <th>ride_date</th>\n",
              "      <th>time_start</th>\n",
              "      <th>time_end</th>\n",
              "      <th>station_start</th>\n",
              "      <th>station_end</th>\n",
              "      <th>ride_duration</th>\n",
              "      <th>ride_late</th>\n",
              "    </tr>\n",
              "  </thead>\n",
              "  <tbody>\n",
              "    <tr>\n",
              "      <th>0</th>\n",
              "      <td>M</td>\n",
              "      <td>1971-06-08</td>\n",
              "      <td>NaN</td>\n",
              "      <td>2018-01-01</td>\n",
              "      <td>06:05:18</td>\n",
              "      <td>06:21:33</td>\n",
              "      <td>11 - Rodoviária 2</td>\n",
              "      <td>41 - Instituto de Artes</td>\n",
              "      <td>16.250000</td>\n",
              "      <td>0.0</td>\n",
              "    </tr>\n",
              "    <tr>\n",
              "      <th>1</th>\n",
              "      <td>M</td>\n",
              "      <td>1989-02-11</td>\n",
              "      <td>DF</td>\n",
              "      <td>2018-01-01</td>\n",
              "      <td>06:27:01</td>\n",
              "      <td>06:32:17</td>\n",
              "      <td>26 - Ministério da Saude</td>\n",
              "      <td>28 - CNMP - Conselho Nacional do Ministério Pú...</td>\n",
              "      <td>5.266667</td>\n",
              "      <td>0.0</td>\n",
              "    </tr>\n",
              "    <tr>\n",
              "      <th>2</th>\n",
              "      <td>M</td>\n",
              "      <td>1968-07-19</td>\n",
              "      <td>NaN</td>\n",
              "      <td>2018-01-01</td>\n",
              "      <td>06:29:33</td>\n",
              "      <td>06:44:57</td>\n",
              "      <td>11 - Rodoviária 2</td>\n",
              "      <td>43 - Biblioteca Central</td>\n",
              "      <td>15.400000</td>\n",
              "      <td>0.0</td>\n",
              "    </tr>\n",
              "    <tr>\n",
              "      <th>3</th>\n",
              "      <td>M</td>\n",
              "      <td>1991-12-19</td>\n",
              "      <td>NaN</td>\n",
              "      <td>2018-01-01</td>\n",
              "      <td>06:53:53</td>\n",
              "      <td>06:59:45</td>\n",
              "      <td>10 - Ministério dos Transportes</td>\n",
              "      <td>6 - Rodoviária</td>\n",
              "      <td>5.866667</td>\n",
              "      <td>0.0</td>\n",
              "    </tr>\n",
              "    <tr>\n",
              "      <th>4</th>\n",
              "      <td>M</td>\n",
              "      <td>1969-03-03</td>\n",
              "      <td>DF</td>\n",
              "      <td>2018-01-01</td>\n",
              "      <td>06:58:56</td>\n",
              "      <td>17:40:04</td>\n",
              "      <td>15 - Brasil 21</td>\n",
              "      <td>11 - Rodoviária 2</td>\n",
              "      <td>641.133333</td>\n",
              "      <td>1.0</td>\n",
              "    </tr>\n",
              "  </tbody>\n",
              "</table>\n",
              "</div>"
            ],
            "text/plain": [
              "  user_gender user_birthdate  ... ride_duration ride_late\n",
              "0           M     1971-06-08  ...     16.250000       0.0\n",
              "1           M     1989-02-11  ...      5.266667       0.0\n",
              "2           M     1968-07-19  ...     15.400000       0.0\n",
              "3           M     1991-12-19  ...      5.866667       0.0\n",
              "4           M     1969-03-03  ...    641.133333       1.0\n",
              "\n",
              "[5 rows x 10 columns]"
            ]
          },
          "metadata": {
            "tags": []
          },
          "execution_count": 2
        }
      ]
    },
    {
      "cell_type": "markdown",
      "metadata": {
        "id": "mq10spwrSMWN"
      },
      "source": [
        "#Identificando valores ausentes "
      ]
    },
    {
      "cell_type": "code",
      "metadata": {
        "colab": {
          "base_uri": "https://localhost:8080/"
        },
        "id": "K_qsxFBiP9Kp",
        "outputId": "bac2bd08-f36f-43cd-a685-752e0bb2cbfb"
      },
      "source": [
        "# ver a quantidade de valores ausentes\r\n",
        "df.isnull().sum()"
      ],
      "execution_count": 3,
      "outputs": [
        {
          "output_type": "execute_result",
          "data": {
            "text/plain": [
              "user_gender          396\n",
              "user_birthdate         1\n",
              "user_residence    179905\n",
              "ride_date              0\n",
              "time_start             0\n",
              "time_end           43285\n",
              "station_start          0\n",
              "station_end            0\n",
              "ride_duration      73174\n",
              "ride_late          73174\n",
              "dtype: int64"
            ]
          },
          "metadata": {
            "tags": []
          },
          "execution_count": 3
        }
      ]
    },
    {
      "cell_type": "code",
      "metadata": {
        "colab": {
          "base_uri": "https://localhost:8080/"
        },
        "id": "IGLug7tUSbaq",
        "outputId": "3fbc3d12-1e09-4dde-bd2c-62371ec60cf6"
      },
      "source": [
        "# ver a porcentagem de valores ausentes\r\n",
        "df.isnull().sum() / df.shape[0]"
      ],
      "execution_count": 5,
      "outputs": [
        {
          "output_type": "execute_result",
          "data": {
            "text/plain": [
              "user_gender       0.001378\n",
              "user_birthdate    0.000003\n",
              "user_residence    0.626144\n",
              "ride_date         0.000000\n",
              "time_start        0.000000\n",
              "time_end          0.150650\n",
              "station_start     0.000000\n",
              "station_end       0.000000\n",
              "ride_duration     0.254676\n",
              "ride_late         0.254676\n",
              "dtype: float64"
            ]
          },
          "metadata": {
            "tags": []
          },
          "execution_count": 5
        }
      ]
    },
    {
      "cell_type": "markdown",
      "metadata": {
        "id": "3hrkGXDLSswW"
      },
      "source": [
        "# Excluindo valores ausentes\r\n",
        "Está é uma primeira opção quando você está lidando com valores nulos do tipo NaN no seu DataFrame.\r\n",
        "\r\n",
        "Entretanto, ela tende a não ser ideal, pois por causa do valor de uma única célula, você elimina os dados existentes em outras colunas. Esta opção deve ser considerada no caso da quantidade de dados nulos serem pequenos a ponto de não ter representatividade no dataset\r\n",
        "\r\n",
        "Eu consigo excluir tanto linhas com valores ausentes quanto colunas inteiras. Para que o Pandas saiba se a sua inteção é de eliminar linhas (axis=0) ou colunas (axis=1), você deve informar dentro do método dropna()."
      ]
    },
    {
      "cell_type": "code",
      "metadata": {
        "colab": {
          "base_uri": "https://localhost:8080/"
        },
        "id": "lH5u70uGSmNQ",
        "outputId": "e63cf25a-0e43-43b3-da3c-d2e2ac9db1bf"
      },
      "source": [
        "# eliminar todas as entradas onde existam valores ausentes em 'user_gender'\r\n",
        "df_clean = df.dropna(subset=['user_gender'],axis=0)\r\n",
        "\r\n",
        "# comparar o antes e depois\r\n",
        "print(\"Antes:\\t{}\".format(df.shape))\r\n",
        "print(\"Depois:\\t{}\".format(df_clean.shape))"
      ],
      "execution_count": 7,
      "outputs": [
        {
          "output_type": "stream",
          "text": [
            "Antes:\t(287322, 10)\n",
            "Depois:\t(286926, 10)\n"
          ],
          "name": "stdout"
        }
      ]
    },
    {
      "cell_type": "markdown",
      "metadata": {
        "id": "rX8wFwNHU3ku"
      },
      "source": [
        "#Preencher os valores\r\n",
        "Esta normalmente é a melhor opção, pois permite que você mantenha dados existentes em outras células.\r\n",
        "\r\n",
        "Uma pergunta que normalmente surge é: \"mas eu substituo o valor ausente por qual valor?\". A resposta para essa pergunta é: depende.\r\n",
        "\r\n",
        "Existem técnicas simples como usar valor mais frequente, media e mediana, assim como há técnicas mais avançadas que envolvem até mesmo o uso de modelos de machine learning cuja função é dizer qual valor usar nesses campos.\r\n",
        "\r\n",
        "Vou mostrar como você pode usar a mediana para preencher os campos ausentes da coluna **ride_duration**, com o uso da função fillna()"
      ]
    },
    {
      "cell_type": "code",
      "metadata": {
        "colab": {
          "base_uri": "https://localhost:8080/"
        },
        "id": "ACdh0dncUuus",
        "outputId": "0c399617-b4c5-43c1-ee79-798088d8b82d"
      },
      "source": [
        "# antes, pode notar que 'user_gender' está sem valor nulo\r\n",
        "df_clean.isnull().sum()"
      ],
      "execution_count": 8,
      "outputs": [
        {
          "output_type": "execute_result",
          "data": {
            "text/plain": [
              "user_gender            0\n",
              "user_birthdate         1\n",
              "user_residence    179818\n",
              "ride_date              0\n",
              "time_start             0\n",
              "time_end           43212\n",
              "station_start          0\n",
              "station_end            0\n",
              "ride_duration      73064\n",
              "ride_late          73064\n",
              "dtype: int64"
            ]
          },
          "metadata": {
            "tags": []
          },
          "execution_count": 8
        }
      ]
    },
    {
      "cell_type": "code",
      "metadata": {
        "colab": {
          "base_uri": "https://localhost:8080/"
        },
        "id": "jfIXeNtOVQSH",
        "outputId": "41cc56c7-b8c3-43da-8f9d-e372c88334ca"
      },
      "source": [
        "# preencher valores ausentes em 'ride_duration' com a mediana\r\n",
        "rd_median = df_clean.ride_duration.median()\r\n",
        "df_clean = df_clean.fillna({'ride_duration': rd_median})\r\n",
        "\r\n",
        "# ver valores ausentes\r\n",
        "df_clean.isnull().sum()"
      ],
      "execution_count": 9,
      "outputs": [
        {
          "output_type": "execute_result",
          "data": {
            "text/plain": [
              "user_gender            0\n",
              "user_birthdate         1\n",
              "user_residence    179818\n",
              "ride_date              0\n",
              "time_start             0\n",
              "time_end           43212\n",
              "station_start          0\n",
              "station_end            0\n",
              "ride_duration          0\n",
              "ride_late          73064\n",
              "dtype: int64"
            ]
          },
          "metadata": {
            "tags": []
          },
          "execution_count": 9
        }
      ]
    },
    {
      "cell_type": "markdown",
      "metadata": {
        "id": "i6IBal0QWsj6"
      },
      "source": [
        "No caso da coluna user_gender, temos uma variável categórica. O ideal aqui é usar o valor mais frequente para o preenchimento dos valores. Valor ver qual aquele que tem maior recorrência e substituir diretamente na coluna."
      ]
    },
    {
      "cell_type": "code",
      "metadata": {
        "colab": {
          "base_uri": "https://localhost:8080/"
        },
        "id": "w25A3D1FWNSF",
        "outputId": "054cfa66-d8ca-4b58-aeef-ef338dddb3cd"
      },
      "source": [
        "# copiar novamente\r\n",
        "df_clean = df.copy()\r\n",
        "\r\n",
        "# ver valores ausentes\r\n",
        "df_clean.isnull().sum()"
      ],
      "execution_count": 10,
      "outputs": [
        {
          "output_type": "execute_result",
          "data": {
            "text/plain": [
              "user_gender          396\n",
              "user_birthdate         1\n",
              "user_residence    179905\n",
              "ride_date              0\n",
              "time_start             0\n",
              "time_end           43285\n",
              "station_start          0\n",
              "station_end            0\n",
              "ride_duration      73174\n",
              "ride_late          73174\n",
              "dtype: int64"
            ]
          },
          "metadata": {
            "tags": []
          },
          "execution_count": 10
        }
      ]
    },
    {
      "cell_type": "code",
      "metadata": {
        "colab": {
          "base_uri": "https://localhost:8080/"
        },
        "id": "Xa3LYyJ_Xq55",
        "outputId": "178f702a-7b31-413d-a108-cd38601a6973"
      },
      "source": [
        "# ver o valor mais frequente\r\n",
        "df_clean.user_gender.value_counts()"
      ],
      "execution_count": 11,
      "outputs": [
        {
          "output_type": "execute_result",
          "data": {
            "text/plain": [
              "M    212608\n",
              "F     74318\n",
              "Name: user_gender, dtype: int64"
            ]
          },
          "metadata": {
            "tags": []
          },
          "execution_count": 11
        }
      ]
    },
    {
      "cell_type": "code",
      "metadata": {
        "colab": {
          "base_uri": "https://localhost:8080/"
        },
        "id": "S9KUxvGUYFE7",
        "outputId": "9d111c23-eb87-40ca-a124-4311c1e28a41"
      },
      "source": [
        "# preencher os valores ausentes de 'user_gender' com M\r\n",
        "df_clean = df_clean.fillna({\"user_gender\": 'M'})\r\n",
        "\r\n",
        "# ver valores ausentes\r\n",
        "df_clean.isnull().sum()"
      ],
      "execution_count": 12,
      "outputs": [
        {
          "output_type": "execute_result",
          "data": {
            "text/plain": [
              "user_gender            0\n",
              "user_birthdate         1\n",
              "user_residence    179905\n",
              "ride_date              0\n",
              "time_start             0\n",
              "time_end           43285\n",
              "station_start          0\n",
              "station_end            0\n",
              "ride_duration      73174\n",
              "ride_late          73174\n",
              "dtype: int64"
            ]
          },
          "metadata": {
            "tags": []
          },
          "execution_count": 12
        }
      ]
    },
    {
      "cell_type": "code",
      "metadata": {
        "id": "BoCeTSwbYsJD"
      },
      "source": [
        ""
      ],
      "execution_count": null,
      "outputs": []
    }
  ]
}
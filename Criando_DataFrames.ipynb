{
  "nbformat": 4,
  "nbformat_minor": 0,
  "metadata": {
    "colab": {
      "name": "Criando_DataFrames.ipynb",
      "provenance": [],
      "authorship_tag": "ABX9TyPCqq4hsyco9trqh7hATSu7",
      "include_colab_link": true
    },
    "kernelspec": {
      "name": "python3",
      "display_name": "Python 3"
    }
  },
  "cells": [
    {
      "cell_type": "markdown",
      "metadata": {
        "id": "view-in-github",
        "colab_type": "text"
      },
      "source": [
        "<a href=\"https://colab.research.google.com/github/marcos-code/mod2_manipulando-e-explorando-dados-sigmoidal/blob/main/Criando_DataFrames.ipynb\" target=\"_parent\"><img src=\"https://colab.research.google.com/assets/colab-badge.svg\" alt=\"Open In Colab\"/></a>"
      ]
    },
    {
      "cell_type": "markdown",
      "metadata": {
        "id": "Ajjac7LtgFV7"
      },
      "source": [
        "<img alt=\"Colaboratory logo\" width=\"15%\" src=\"https://raw.githubusercontent.com/carlosfab/escola-data-science/master/img/novo_logo_bg_claro.png\">\r\n",
        "\r\n",
        "#### **Data Science na Prática 2.0**\r\n",
        "*by [sigmoidal.ai](https://sigmoidal.ai)*\r\n",
        "\r\n",
        "---\r\n",
        "\r\n",
        "# Criando DataFrames\r\n",
        "\r\n",
        "No *notebook* anterior, importamos diretamente um arquivo `csv` da internet para uma estrutura *DataFrame*. Quando usamos a função `pd.read('arquivo.csv')` o Pandas já entendendo como deve agir em relação à estrutura de linhas e colunas.\r\n",
        "\r\n",
        "<center><img src=\"https://raw.githubusercontent.com/carlosfab/curso_data_science_na_pratica/master/modulo_02/from_csv_to_df.png\"></center>\r\n",
        "\r\n",
        "\r\n",
        "No entanto, existe a possibilidade de criarmos na mão um *DataFrame* usando diversas técnicas."
      ]
    },
    {
      "cell_type": "code",
      "metadata": {
        "id": "gpWh5GW_NOLB"
      },
      "source": [
        "import pandas as pd\r\n"
      ],
      "execution_count": 1,
      "outputs": []
    },
    {
      "cell_type": "markdown",
      "metadata": {
        "id": "BVfKCkOWWdfd"
      },
      "source": [
        "#Criando DataFrames"
      ]
    },
    {
      "cell_type": "code",
      "metadata": {
        "id": "PWO1rpnbPWRL"
      },
      "source": [
        "# criando um dicionario\r\n",
        "dados_dict = {\r\n",
        "    'nome': [\"Marcos\", \"Angelina\", \"Miguel\", \"Daiane\"],\r\n",
        "    'idade': [28, 60, 57, 27],\r\n",
        "    'cidade': [\"São Paulo\", \"Bahia\", \"SJC\", \"Sumaré\"],\r\n",
        "    'comprou': [True, False, False, True],\r\n",
        "}     "
      ],
      "execution_count": 4,
      "outputs": []
    },
    {
      "cell_type": "code",
      "metadata": {
        "colab": {
          "base_uri": "https://localhost:8080/",
          "height": 171
        },
        "id": "Numj4k2xVQpb",
        "outputId": "10780b49-7d91-4950-e140-df4a80d78c4d"
      },
      "source": [
        "# criando um DataFrame\r\n",
        "df = pd.DataFrame(dados_dict)\r\n",
        "df"
      ],
      "execution_count": 5,
      "outputs": [
        {
          "output_type": "execute_result",
          "data": {
            "text/html": [
              "<div>\n",
              "<style scoped>\n",
              "    .dataframe tbody tr th:only-of-type {\n",
              "        vertical-align: middle;\n",
              "    }\n",
              "\n",
              "    .dataframe tbody tr th {\n",
              "        vertical-align: top;\n",
              "    }\n",
              "\n",
              "    .dataframe thead th {\n",
              "        text-align: right;\n",
              "    }\n",
              "</style>\n",
              "<table border=\"1\" class=\"dataframe\">\n",
              "  <thead>\n",
              "    <tr style=\"text-align: right;\">\n",
              "      <th></th>\n",
              "      <th>nome</th>\n",
              "      <th>idade</th>\n",
              "      <th>cidade</th>\n",
              "      <th>comprou</th>\n",
              "    </tr>\n",
              "  </thead>\n",
              "  <tbody>\n",
              "    <tr>\n",
              "      <th>0</th>\n",
              "      <td>Marcos</td>\n",
              "      <td>28</td>\n",
              "      <td>São Paulo</td>\n",
              "      <td>True</td>\n",
              "    </tr>\n",
              "    <tr>\n",
              "      <th>1</th>\n",
              "      <td>Angelina</td>\n",
              "      <td>60</td>\n",
              "      <td>Bahia</td>\n",
              "      <td>False</td>\n",
              "    </tr>\n",
              "    <tr>\n",
              "      <th>2</th>\n",
              "      <td>Miguel</td>\n",
              "      <td>57</td>\n",
              "      <td>SJC</td>\n",
              "      <td>False</td>\n",
              "    </tr>\n",
              "    <tr>\n",
              "      <th>3</th>\n",
              "      <td>Daiane</td>\n",
              "      <td>27</td>\n",
              "      <td>Sumaré</td>\n",
              "      <td>True</td>\n",
              "    </tr>\n",
              "  </tbody>\n",
              "</table>\n",
              "</div>"
            ],
            "text/plain": [
              "       nome  idade     cidade  comprou\n",
              "0    Marcos     28  São Paulo     True\n",
              "1  Angelina     60      Bahia    False\n",
              "2    Miguel     57        SJC    False\n",
              "3    Daiane     27     Sumaré     True"
            ]
          },
          "metadata": {
            "tags": []
          },
          "execution_count": 5
        }
      ]
    },
    {
      "cell_type": "code",
      "metadata": {
        "colab": {
          "base_uri": "https://localhost:8080/",
          "height": 171
        },
        "id": "IiMTNNalVayC",
        "outputId": "df7c63e0-54ed-430c-c2aa-f63fb5e8aa88"
      },
      "source": [
        "# criando id do usuário\r\n",
        "id_usuario = [1414, 7721, 2233, 5512]\r\n"
      ],
      "execution_count": 6,
      "outputs": [
        {
          "output_type": "execute_result",
          "data": {
            "text/html": [
              "<div>\n",
              "<style scoped>\n",
              "    .dataframe tbody tr th:only-of-type {\n",
              "        vertical-align: middle;\n",
              "    }\n",
              "\n",
              "    .dataframe tbody tr th {\n",
              "        vertical-align: top;\n",
              "    }\n",
              "\n",
              "    .dataframe thead th {\n",
              "        text-align: right;\n",
              "    }\n",
              "</style>\n",
              "<table border=\"1\" class=\"dataframe\">\n",
              "  <thead>\n",
              "    <tr style=\"text-align: right;\">\n",
              "      <th></th>\n",
              "      <th>nome</th>\n",
              "      <th>idade</th>\n",
              "      <th>cidade</th>\n",
              "      <th>comprou</th>\n",
              "    </tr>\n",
              "  </thead>\n",
              "  <tbody>\n",
              "    <tr>\n",
              "      <th>0</th>\n",
              "      <td>Marcos</td>\n",
              "      <td>28</td>\n",
              "      <td>São Paulo</td>\n",
              "      <td>True</td>\n",
              "    </tr>\n",
              "    <tr>\n",
              "      <th>1</th>\n",
              "      <td>Angelina</td>\n",
              "      <td>60</td>\n",
              "      <td>Bahia</td>\n",
              "      <td>False</td>\n",
              "    </tr>\n",
              "    <tr>\n",
              "      <th>2</th>\n",
              "      <td>Miguel</td>\n",
              "      <td>57</td>\n",
              "      <td>SJC</td>\n",
              "      <td>False</td>\n",
              "    </tr>\n",
              "    <tr>\n",
              "      <th>3</th>\n",
              "      <td>Daiane</td>\n",
              "      <td>27</td>\n",
              "      <td>Sumaré</td>\n",
              "      <td>True</td>\n",
              "    </tr>\n",
              "  </tbody>\n",
              "</table>\n",
              "</div>"
            ],
            "text/plain": [
              "       nome  idade     cidade  comprou\n",
              "0    Marcos     28  São Paulo     True\n",
              "1  Angelina     60      Bahia    False\n",
              "2    Miguel     57        SJC    False\n",
              "3    Daiane     27     Sumaré     True"
            ]
          },
          "metadata": {
            "tags": []
          },
          "execution_count": 6
        }
      ]
    },
    {
      "cell_type": "code",
      "metadata": {
        "colab": {
          "base_uri": "https://localhost:8080/",
          "height": 171
        },
        "id": "LwEd_Dx8Vya6",
        "outputId": "cf9e2006-108d-4940-8041-c95d11b428d7"
      },
      "source": [
        "# associando o id do usuario a lista\r\n",
        "df.index = id_usuario\r\n",
        "\r\n",
        "df #ver o dataframe"
      ],
      "execution_count": 7,
      "outputs": [
        {
          "output_type": "execute_result",
          "data": {
            "text/html": [
              "<div>\n",
              "<style scoped>\n",
              "    .dataframe tbody tr th:only-of-type {\n",
              "        vertical-align: middle;\n",
              "    }\n",
              "\n",
              "    .dataframe tbody tr th {\n",
              "        vertical-align: top;\n",
              "    }\n",
              "\n",
              "    .dataframe thead th {\n",
              "        text-align: right;\n",
              "    }\n",
              "</style>\n",
              "<table border=\"1\" class=\"dataframe\">\n",
              "  <thead>\n",
              "    <tr style=\"text-align: right;\">\n",
              "      <th></th>\n",
              "      <th>nome</th>\n",
              "      <th>idade</th>\n",
              "      <th>cidade</th>\n",
              "      <th>comprou</th>\n",
              "    </tr>\n",
              "  </thead>\n",
              "  <tbody>\n",
              "    <tr>\n",
              "      <th>1414</th>\n",
              "      <td>Marcos</td>\n",
              "      <td>28</td>\n",
              "      <td>São Paulo</td>\n",
              "      <td>True</td>\n",
              "    </tr>\n",
              "    <tr>\n",
              "      <th>7721</th>\n",
              "      <td>Angelina</td>\n",
              "      <td>60</td>\n",
              "      <td>Bahia</td>\n",
              "      <td>False</td>\n",
              "    </tr>\n",
              "    <tr>\n",
              "      <th>2233</th>\n",
              "      <td>Miguel</td>\n",
              "      <td>57</td>\n",
              "      <td>SJC</td>\n",
              "      <td>False</td>\n",
              "    </tr>\n",
              "    <tr>\n",
              "      <th>5512</th>\n",
              "      <td>Daiane</td>\n",
              "      <td>27</td>\n",
              "      <td>Sumaré</td>\n",
              "      <td>True</td>\n",
              "    </tr>\n",
              "  </tbody>\n",
              "</table>\n",
              "</div>"
            ],
            "text/plain": [
              "          nome  idade     cidade  comprou\n",
              "1414    Marcos     28  São Paulo     True\n",
              "7721  Angelina     60      Bahia    False\n",
              "2233    Miguel     57        SJC    False\n",
              "5512    Daiane     27     Sumaré     True"
            ]
          },
          "metadata": {
            "tags": []
          },
          "execution_count": 7
        }
      ]
    },
    {
      "cell_type": "code",
      "metadata": {
        "colab": {
          "base_uri": "https://localhost:8080/"
        },
        "id": "mpyFJSOmWDu4",
        "outputId": "61199206-0c2a-47e7-ca52-8c4f8b19bcc6"
      },
      "source": [
        "# selecionar dataframe por id\r\n",
        "df.loc[5512]"
      ],
      "execution_count": 8,
      "outputs": [
        {
          "output_type": "execute_result",
          "data": {
            "text/plain": [
              "nome       Daiane\n",
              "idade          27\n",
              "cidade     Sumaré\n",
              "comprou      True\n",
              "Name: 5512, dtype: object"
            ]
          },
          "metadata": {
            "tags": []
          },
          "execution_count": 8
        }
      ]
    },
    {
      "cell_type": "code",
      "metadata": {
        "colab": {
          "base_uri": "https://localhost:8080/"
        },
        "id": "8p8BrJ3AWV3d",
        "outputId": "7f7db684-a5c0-4cfe-f6c9-a206934e833f"
      },
      "source": [
        "df.loc[1414]"
      ],
      "execution_count": 9,
      "outputs": [
        {
          "output_type": "execute_result",
          "data": {
            "text/plain": [
              "nome          Marcos\n",
              "idade             28\n",
              "cidade     São Paulo\n",
              "comprou         True\n",
              "Name: 1414, dtype: object"
            ]
          },
          "metadata": {
            "tags": []
          },
          "execution_count": 9
        }
      ]
    },
    {
      "cell_type": "markdown",
      "metadata": {
        "id": "6EwLryC0WpYB"
      },
      "source": [
        "#DataFrames a partir de listas\r\n"
      ]
    },
    {
      "cell_type": "code",
      "metadata": {
        "colab": {
          "base_uri": "https://localhost:8080/",
          "height": 171
        },
        "id": "HZqQlUijWY7K",
        "outputId": "13bfc686-51b2-4f58-ac4e-92cb30733620"
      },
      "source": [
        "dados_listas = [[\"Marcos\", 28, \"São Paulo\", True],\r\n",
        "                [\"Angelina\", 60, \"Bahia\", False],\r\n",
        "                [\"Miguel\", 57, \"SJC\", False],\r\n",
        "                [\"Daiane\", 27, \"Sumaré\", True]]\r\n",
        "\r\n",
        "# criar DataFrame\r\n",
        "df = pd.DataFrame(dados_listas, columns = ['nome', 'idade', 'cidade', 'comprou'])\r\n",
        "\r\n",
        "# visualizar DataFrame\r\n",
        "df"
      ],
      "execution_count": 27,
      "outputs": [
        {
          "output_type": "execute_result",
          "data": {
            "text/html": [
              "<div>\n",
              "<style scoped>\n",
              "    .dataframe tbody tr th:only-of-type {\n",
              "        vertical-align: middle;\n",
              "    }\n",
              "\n",
              "    .dataframe tbody tr th {\n",
              "        vertical-align: top;\n",
              "    }\n",
              "\n",
              "    .dataframe thead th {\n",
              "        text-align: right;\n",
              "    }\n",
              "</style>\n",
              "<table border=\"1\" class=\"dataframe\">\n",
              "  <thead>\n",
              "    <tr style=\"text-align: right;\">\n",
              "      <th></th>\n",
              "      <th>nome</th>\n",
              "      <th>idade</th>\n",
              "      <th>cidade</th>\n",
              "      <th>comprou</th>\n",
              "    </tr>\n",
              "  </thead>\n",
              "  <tbody>\n",
              "    <tr>\n",
              "      <th>0</th>\n",
              "      <td>Marcos</td>\n",
              "      <td>28</td>\n",
              "      <td>São Paulo</td>\n",
              "      <td>True</td>\n",
              "    </tr>\n",
              "    <tr>\n",
              "      <th>1</th>\n",
              "      <td>Angelina</td>\n",
              "      <td>60</td>\n",
              "      <td>Bahia</td>\n",
              "      <td>False</td>\n",
              "    </tr>\n",
              "    <tr>\n",
              "      <th>2</th>\n",
              "      <td>Miguel</td>\n",
              "      <td>57</td>\n",
              "      <td>SJC</td>\n",
              "      <td>False</td>\n",
              "    </tr>\n",
              "    <tr>\n",
              "      <th>3</th>\n",
              "      <td>Daiane</td>\n",
              "      <td>27</td>\n",
              "      <td>Sumaré</td>\n",
              "      <td>True</td>\n",
              "    </tr>\n",
              "  </tbody>\n",
              "</table>\n",
              "</div>"
            ],
            "text/plain": [
              "       nome  idade     cidade  comprou\n",
              "0    Marcos     28  São Paulo     True\n",
              "1  Angelina     60      Bahia    False\n",
              "2    Miguel     57        SJC    False\n",
              "3    Daiane     27     Sumaré     True"
            ]
          },
          "metadata": {
            "tags": []
          },
          "execution_count": 27
        }
      ]
    },
    {
      "cell_type": "code",
      "metadata": {
        "colab": {
          "base_uri": "https://localhost:8080/"
        },
        "id": "v9LDdUXtYYmT",
        "outputId": "c235c71c-dc2d-44c2-83b7-b919ed286be5"
      },
      "source": [
        "#selecionando pelo index\r\n",
        "df.index = ['a','b', 'c', 'd']\r\n",
        "\r\n",
        "# selecionando a partir do index\r\n",
        "\r\n",
        "df.loc['b']"
      ],
      "execution_count": 28,
      "outputs": [
        {
          "output_type": "execute_result",
          "data": {
            "text/plain": [
              "nome       Angelina\n",
              "idade            60\n",
              "cidade        Bahia\n",
              "comprou       False\n",
              "Name: b, dtype: object"
            ]
          },
          "metadata": {
            "tags": []
          },
          "execution_count": 28
        }
      ]
    },
    {
      "cell_type": "code",
      "metadata": {
        "colab": {
          "base_uri": "https://localhost:8080/"
        },
        "id": "aQXh_rG2YxCy",
        "outputId": "3aed66f2-b253-4f8a-8ec9-0979dc09fd05"
      },
      "source": [
        "df.loc['d']"
      ],
      "execution_count": 29,
      "outputs": [
        {
          "output_type": "execute_result",
          "data": {
            "text/plain": [
              "nome       Daiane\n",
              "idade          27\n",
              "cidade     Sumaré\n",
              "comprou      True\n",
              "Name: d, dtype: object"
            ]
          },
          "metadata": {
            "tags": []
          },
          "execution_count": 29
        }
      ]
    },
    {
      "cell_type": "markdown",
      "metadata": {
        "id": "A2m2cTygY29S"
      },
      "source": [
        "#Criando novas colunas"
      ]
    },
    {
      "cell_type": "code",
      "metadata": {
        "colab": {
          "base_uri": "https://localhost:8080/",
          "height": 171
        },
        "id": "CtHMH2QJZKsB",
        "outputId": "c01c6a3b-6064-41ce-8dca-bc8a2ed8478e"
      },
      "source": [
        "# criando coluna 'saldo'\r\n",
        "df['saldo'] =  100.00\r\n",
        "\r\n",
        "df"
      ],
      "execution_count": 30,
      "outputs": [
        {
          "output_type": "execute_result",
          "data": {
            "text/html": [
              "<div>\n",
              "<style scoped>\n",
              "    .dataframe tbody tr th:only-of-type {\n",
              "        vertical-align: middle;\n",
              "    }\n",
              "\n",
              "    .dataframe tbody tr th {\n",
              "        vertical-align: top;\n",
              "    }\n",
              "\n",
              "    .dataframe thead th {\n",
              "        text-align: right;\n",
              "    }\n",
              "</style>\n",
              "<table border=\"1\" class=\"dataframe\">\n",
              "  <thead>\n",
              "    <tr style=\"text-align: right;\">\n",
              "      <th></th>\n",
              "      <th>nome</th>\n",
              "      <th>idade</th>\n",
              "      <th>cidade</th>\n",
              "      <th>comprou</th>\n",
              "      <th>saldo</th>\n",
              "    </tr>\n",
              "  </thead>\n",
              "  <tbody>\n",
              "    <tr>\n",
              "      <th>a</th>\n",
              "      <td>Marcos</td>\n",
              "      <td>28</td>\n",
              "      <td>São Paulo</td>\n",
              "      <td>True</td>\n",
              "      <td>100.0</td>\n",
              "    </tr>\n",
              "    <tr>\n",
              "      <th>b</th>\n",
              "      <td>Angelina</td>\n",
              "      <td>60</td>\n",
              "      <td>Bahia</td>\n",
              "      <td>False</td>\n",
              "      <td>100.0</td>\n",
              "    </tr>\n",
              "    <tr>\n",
              "      <th>c</th>\n",
              "      <td>Miguel</td>\n",
              "      <td>57</td>\n",
              "      <td>SJC</td>\n",
              "      <td>False</td>\n",
              "      <td>100.0</td>\n",
              "    </tr>\n",
              "    <tr>\n",
              "      <th>d</th>\n",
              "      <td>Daiane</td>\n",
              "      <td>27</td>\n",
              "      <td>Sumaré</td>\n",
              "      <td>True</td>\n",
              "      <td>100.0</td>\n",
              "    </tr>\n",
              "  </tbody>\n",
              "</table>\n",
              "</div>"
            ],
            "text/plain": [
              "       nome  idade     cidade  comprou  saldo\n",
              "a    Marcos     28  São Paulo     True  100.0\n",
              "b  Angelina     60      Bahia    False  100.0\n",
              "c    Miguel     57        SJC    False  100.0\n",
              "d    Daiane     27     Sumaré     True  100.0"
            ]
          },
          "metadata": {
            "tags": []
          },
          "execution_count": 30
        }
      ]
    },
    {
      "cell_type": "markdown",
      "metadata": {
        "id": "REdDiIe-atui"
      },
      "source": [
        "# Modificando index e colunas"
      ]
    },
    {
      "cell_type": "code",
      "metadata": {
        "colab": {
          "base_uri": "https://localhost:8080/",
          "height": 171
        },
        "id": "iJ0B537sal24",
        "outputId": "0b9b29d5-acbf-4c32-86af-b182545847a9"
      },
      "source": [
        "# alterar o index do df\r\n",
        "df.index = ['Coluna A', 'Coluna B', 'Coluna C', 'Coluna D']\r\n",
        "df"
      ],
      "execution_count": 31,
      "outputs": [
        {
          "output_type": "execute_result",
          "data": {
            "text/html": [
              "<div>\n",
              "<style scoped>\n",
              "    .dataframe tbody tr th:only-of-type {\n",
              "        vertical-align: middle;\n",
              "    }\n",
              "\n",
              "    .dataframe tbody tr th {\n",
              "        vertical-align: top;\n",
              "    }\n",
              "\n",
              "    .dataframe thead th {\n",
              "        text-align: right;\n",
              "    }\n",
              "</style>\n",
              "<table border=\"1\" class=\"dataframe\">\n",
              "  <thead>\n",
              "    <tr style=\"text-align: right;\">\n",
              "      <th></th>\n",
              "      <th>nome</th>\n",
              "      <th>idade</th>\n",
              "      <th>cidade</th>\n",
              "      <th>comprou</th>\n",
              "      <th>saldo</th>\n",
              "    </tr>\n",
              "  </thead>\n",
              "  <tbody>\n",
              "    <tr>\n",
              "      <th>Coluna A</th>\n",
              "      <td>Marcos</td>\n",
              "      <td>28</td>\n",
              "      <td>São Paulo</td>\n",
              "      <td>True</td>\n",
              "      <td>100.0</td>\n",
              "    </tr>\n",
              "    <tr>\n",
              "      <th>Coluna B</th>\n",
              "      <td>Angelina</td>\n",
              "      <td>60</td>\n",
              "      <td>Bahia</td>\n",
              "      <td>False</td>\n",
              "      <td>100.0</td>\n",
              "    </tr>\n",
              "    <tr>\n",
              "      <th>Coluna C</th>\n",
              "      <td>Miguel</td>\n",
              "      <td>57</td>\n",
              "      <td>SJC</td>\n",
              "      <td>False</td>\n",
              "      <td>100.0</td>\n",
              "    </tr>\n",
              "    <tr>\n",
              "      <th>Coluna D</th>\n",
              "      <td>Daiane</td>\n",
              "      <td>27</td>\n",
              "      <td>Sumaré</td>\n",
              "      <td>True</td>\n",
              "      <td>100.0</td>\n",
              "    </tr>\n",
              "  </tbody>\n",
              "</table>\n",
              "</div>"
            ],
            "text/plain": [
              "              nome  idade     cidade  comprou  saldo\n",
              "Coluna A    Marcos     28  São Paulo     True  100.0\n",
              "Coluna B  Angelina     60      Bahia    False  100.0\n",
              "Coluna C    Miguel     57        SJC    False  100.0\n",
              "Coluna D    Daiane     27     Sumaré     True  100.0"
            ]
          },
          "metadata": {
            "tags": []
          },
          "execution_count": 31
        }
      ]
    },
    {
      "cell_type": "code",
      "metadata": {
        "colab": {
          "base_uri": "https://localhost:8080/",
          "height": 171
        },
        "id": "C7cgbSKnbGZN",
        "outputId": "b651bdf3-0796-4e75-8326-e7038febf421"
      },
      "source": [
        "# alterando o nome das colunas para maiúsculos\r\n",
        "\r\n",
        "df.columns = ['NOME', 'IDADE', 'CIDADE', 'COMPROU', 'SALDO']\r\n",
        "df"
      ],
      "execution_count": 32,
      "outputs": [
        {
          "output_type": "execute_result",
          "data": {
            "text/html": [
              "<div>\n",
              "<style scoped>\n",
              "    .dataframe tbody tr th:only-of-type {\n",
              "        vertical-align: middle;\n",
              "    }\n",
              "\n",
              "    .dataframe tbody tr th {\n",
              "        vertical-align: top;\n",
              "    }\n",
              "\n",
              "    .dataframe thead th {\n",
              "        text-align: right;\n",
              "    }\n",
              "</style>\n",
              "<table border=\"1\" class=\"dataframe\">\n",
              "  <thead>\n",
              "    <tr style=\"text-align: right;\">\n",
              "      <th></th>\n",
              "      <th>NOME</th>\n",
              "      <th>IDADE</th>\n",
              "      <th>CIDADE</th>\n",
              "      <th>COMPROU</th>\n",
              "      <th>SALDO</th>\n",
              "    </tr>\n",
              "  </thead>\n",
              "  <tbody>\n",
              "    <tr>\n",
              "      <th>Coluna A</th>\n",
              "      <td>Marcos</td>\n",
              "      <td>28</td>\n",
              "      <td>São Paulo</td>\n",
              "      <td>True</td>\n",
              "      <td>100.0</td>\n",
              "    </tr>\n",
              "    <tr>\n",
              "      <th>Coluna B</th>\n",
              "      <td>Angelina</td>\n",
              "      <td>60</td>\n",
              "      <td>Bahia</td>\n",
              "      <td>False</td>\n",
              "      <td>100.0</td>\n",
              "    </tr>\n",
              "    <tr>\n",
              "      <th>Coluna C</th>\n",
              "      <td>Miguel</td>\n",
              "      <td>57</td>\n",
              "      <td>SJC</td>\n",
              "      <td>False</td>\n",
              "      <td>100.0</td>\n",
              "    </tr>\n",
              "    <tr>\n",
              "      <th>Coluna D</th>\n",
              "      <td>Daiane</td>\n",
              "      <td>27</td>\n",
              "      <td>Sumaré</td>\n",
              "      <td>True</td>\n",
              "      <td>100.0</td>\n",
              "    </tr>\n",
              "  </tbody>\n",
              "</table>\n",
              "</div>"
            ],
            "text/plain": [
              "              NOME  IDADE     CIDADE  COMPROU  SALDO\n",
              "Coluna A    Marcos     28  São Paulo     True  100.0\n",
              "Coluna B  Angelina     60      Bahia    False  100.0\n",
              "Coluna C    Miguel     57        SJC    False  100.0\n",
              "Coluna D    Daiane     27     Sumaré     True  100.0"
            ]
          },
          "metadata": {
            "tags": []
          },
          "execution_count": 32
        }
      ]
    },
    {
      "cell_type": "code",
      "metadata": {
        "id": "zoRfkHyhbe5U"
      },
      "source": [
        ""
      ],
      "execution_count": null,
      "outputs": []
    }
  ]
}